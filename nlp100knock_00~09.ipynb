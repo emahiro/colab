{
  "nbformat": 4,
  "nbformat_minor": 0,
  "metadata": {
    "colab": {
      "name": "nlp100knock_00~09.ipynb",
      "provenance": [],
      "collapsed_sections": [],
      "authorship_tag": "ABX9TyP7nlAaTTcfTiTKYVIT9zVG",
      "include_colab_link": true
    },
    "kernelspec": {
      "name": "python3",
      "display_name": "Python 3"
    },
    "language_info": {
      "name": "python"
    }
  },
  "cells": [
    {
      "cell_type": "markdown",
      "metadata": {
        "id": "view-in-github",
        "colab_type": "text"
      },
      "source": [
        "<a href=\"https://colab.research.google.com/github/emahiro/colab/blob/main/nlp100knock_00~09.ipynb\" target=\"_parent\"><img src=\"https://colab.research.google.com/assets/colab-badge.svg\" alt=\"Open In Colab\"/></a>"
      ]
    },
    {
      "cell_type": "markdown",
      "metadata": {
        "id": "gWU_WWIf2Qke"
      },
      "source": [
        "# 00. 文字列の逆順\n",
        "https://nlp100.github.io/ja/ch01.html#00-%E6%96%87%E5%AD%97%E5%88%97%E3%81%AE%E9%80%86%E9%A0%86"
      ]
    },
    {
      "cell_type": "code",
      "metadata": {
        "colab": {
          "base_uri": "https://localhost:8080/"
        },
        "id": "OrBEpAtz2INU",
        "outputId": "41e61156-a430-4aac-c27b-814abc1fa299"
      },
      "source": [
        "orig_str = \"stressed\"\n",
        "orig_str_list = list(orig_str)\n",
        "rev_str_list = reversed(orig_str_list)\n",
        "rev_str = ''.join(rev_str_list)\n",
        "print(rev_str)\n"
      ],
      "execution_count": null,
      "outputs": [
        {
          "output_type": "stream",
          "name": "stdout",
          "text": [
            "desserts\n"
          ]
        }
      ]
    },
    {
      "cell_type": "markdown",
      "metadata": {
        "id": "X_4mz9SS81r1"
      },
      "source": [
        "# 01. 「パタトクカシーー」\n",
        "\n",
        "https://nlp100.github.io/ja/ch01.html#01-%E3%83%91%E3%82%BF%E3%83%88%E3%82%AF%E3%82%AB%E3%82%B7%E3%83%BC%E3%83%BC"
      ]
    },
    {
      "cell_type": "code",
      "metadata": {
        "colab": {
          "base_uri": "https://localhost:8080/"
        },
        "id": "9OxXGldb9B-F",
        "outputId": "16589650-f6d7-4d89-d967-caeafdc28e13"
      },
      "source": [
        "orig_str = \"パタトクカシーー\"\n",
        "orig_str_list = list(orig_str)\n",
        "result = \"\"\n",
        "for idx, str in enumerate(orig_str_list):\n",
        "  if idx % 2 == 1:\n",
        "    result = result + str\n",
        "print(result)"
      ],
      "execution_count": 9,
      "outputs": [
        {
          "output_type": "stream",
          "name": "stdout",
          "text": [
            "タクシー\n"
          ]
        }
      ]
    },
    {
      "cell_type": "markdown",
      "metadata": {
        "id": "CPO5hnPv_Dqj"
      },
      "source": [
        "# 02. 「パトカー」＋「タクシー」＝「パタトクカシーー」\n",
        "https://nlp100.github.io/ja/ch01.html#02-%E3%83%91%E3%83%88%E3%82%AB%E3%83%BC%E3%82%BF%E3%82%AF%E3%82%B7%E3%83%BC%E3%83%91%E3%82%BF%E3%83%88%E3%82%AF%E3%82%AB%E3%82%B7%E3%83%BC%E3%83%BC"
      ]
    },
    {
      "cell_type": "code",
      "metadata": {
        "colab": {
          "base_uri": "https://localhost:8080/"
        },
        "id": "77pz5I2x_Iff",
        "outputId": "25773a5c-19d1-4759-b75e-2aa5d1a92e8d"
      },
      "source": [
        "import math\n",
        "\n",
        "patocar = \"パトカー\"\n",
        "patocar_list = list(patocar)\n",
        "taxi = \"タクシー\"\n",
        "taxi_list = list(taxi)\n",
        "result = \"\"\n",
        "result_len = range(math.floor(len(patocar_list)/2+len(taxi_list)/2))\n",
        "for i in result_len:\n",
        "  result = result+patocar_list[i]+taxi_list[i]\n",
        "\n",
        "print(result)"
      ],
      "execution_count": 40,
      "outputs": [
        {
          "output_type": "stream",
          "name": "stdout",
          "text": [
            "パタトクカシーー\n"
          ]
        }
      ]
    },
    {
      "cell_type": "markdown",
      "metadata": {
        "id": "y3AupFSCEKnl"
      },
      "source": [
        "# 02 模範解答\n",
        "回答を公開してくれていた方がいた。\n",
        "https://www.suzu6.net/posts/11\n",
        "\n",
        "普通にダサい回答をしてしまった。\n",
        "\n",
        "1. パトカーとタクシーが同じ文字列の長さであることを\n",
        "2. [zip](https://docs.python.org/ja/3/library/functions.html#zip) を使う -> 仕様を知ってればこれが一番イケてる。複数の文字列から一文字ずつ取り出したタプルのイテレーターを作る。\n"
      ]
    },
    {
      "cell_type": "code",
      "metadata": {
        "id": "eqQvEvxPEzLr",
        "outputId": "d4090dde-a36e-4579-9c5e-bfc55d98e9bb",
        "colab": {
          "base_uri": "https://localhost:8080/"
        }
      },
      "source": [
        "# 1 の方\n",
        "\n",
        "w_p = \"パトカー\"\n",
        "w_t = \"タクシー\"\n",
        "\n",
        "result = \"\"\n",
        "for i in range(len(w_p)):\n",
        "  result += w_p[i] + w_t[i]\n",
        "\n",
        "print(result)\n",
        "\n",
        "# 2 の方\n",
        "p_list = list(\"パトカー\")\n",
        "t_list = list(\"タクシー\")\n",
        "\n",
        "result = \"\"\n",
        "for p, t in zip(p_list, t_list):\n",
        "  result += p+t\n",
        "\n",
        "print(result)"
      ],
      "execution_count": 42,
      "outputs": [
        {
          "output_type": "stream",
          "name": "stdout",
          "text": [
            "パタトクカシーー\n",
            "パタトクカシーー\n"
          ]
        }
      ]
    }
  ]
}