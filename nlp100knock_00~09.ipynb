{
  "nbformat": 4,
  "nbformat_minor": 0,
  "metadata": {
    "colab": {
      "name": "nlp100knock_00~09.ipynb",
      "provenance": [],
      "collapsed_sections": [],
      "authorship_tag": "ABX9TyMoz51P16l/awVaZhbFByxE",
      "include_colab_link": true
    },
    "kernelspec": {
      "name": "python3",
      "display_name": "Python 3"
    },
    "language_info": {
      "name": "python"
    }
  },
  "cells": [
    {
      "cell_type": "markdown",
      "metadata": {
        "id": "view-in-github",
        "colab_type": "text"
      },
      "source": [
        "<a href=\"https://colab.research.google.com/github/emahiro/colab/blob/main/nlp100knock_00~09.ipynb\" target=\"_parent\"><img src=\"https://colab.research.google.com/assets/colab-badge.svg\" alt=\"Open In Colab\"/></a>"
      ]
    },
    {
      "cell_type": "markdown",
      "metadata": {
        "id": "gWU_WWIf2Qke"
      },
      "source": [
        "# 00. 文字列の逆順\n",
        "https://nlp100.github.io/ja/ch01.html#00-%E6%96%87%E5%AD%97%E5%88%97%E3%81%AE%E9%80%86%E9%A0%86"
      ]
    },
    {
      "cell_type": "code",
      "metadata": {
        "colab": {
          "base_uri": "https://localhost:8080/"
        },
        "id": "OrBEpAtz2INU",
        "outputId": "41e61156-a430-4aac-c27b-814abc1fa299"
      },
      "source": [
        "orig_str = \"stressed\"\n",
        "orig_str_list = list(orig_str)\n",
        "rev_str_list = reversed(orig_str_list)\n",
        "rev_str = ''.join(rev_str_list)\n",
        "print(rev_str)\n"
      ],
      "execution_count": null,
      "outputs": [
        {
          "output_type": "stream",
          "name": "stdout",
          "text": [
            "desserts\n"
          ]
        }
      ]
    },
    {
      "cell_type": "markdown",
      "metadata": {
        "id": "X_4mz9SS81r1"
      },
      "source": [
        "# 01. 「パタトクカシーー」\n",
        "\n",
        "https://nlp100.github.io/ja/ch01.html#01-%E3%83%91%E3%82%BF%E3%83%88%E3%82%AF%E3%82%AB%E3%82%B7%E3%83%BC%E3%83%BC"
      ]
    },
    {
      "cell_type": "code",
      "metadata": {
        "colab": {
          "base_uri": "https://localhost:8080/"
        },
        "id": "9OxXGldb9B-F",
        "outputId": "16589650-f6d7-4d89-d967-caeafdc28e13"
      },
      "source": [
        "orig_str = \"パタトクカシーー\"\n",
        "orig_str_list = list(orig_str)\n",
        "result = \"\"\n",
        "for idx, str in enumerate(orig_str_list):\n",
        "  if idx % 2 == 1:\n",
        "    result = result + str\n",
        "print(result)"
      ],
      "execution_count": 9,
      "outputs": [
        {
          "output_type": "stream",
          "name": "stdout",
          "text": [
            "タクシー\n"
          ]
        }
      ]
    },
    {
      "cell_type": "markdown",
      "metadata": {
        "id": "CPO5hnPv_Dqj"
      },
      "source": [
        "# 03. 「パトカー」＋「タクシー」＝「パタトクカシーー」\n",
        "https://nlp100.github.io/ja/ch01.html#02-%E3%83%91%E3%83%88%E3%82%AB%E3%83%BC%E3%82%BF%E3%82%AF%E3%82%B7%E3%83%BC%E3%83%91%E3%82%BF%E3%83%88%E3%82%AF%E3%82%AB%E3%82%B7%E3%83%BC%E3%83%BC"
      ]
    },
    {
      "cell_type": "code",
      "metadata": {
        "id": "77pz5I2x_Iff"
      },
      "source": [
        ""
      ],
      "execution_count": null,
      "outputs": []
    }
  ]
}